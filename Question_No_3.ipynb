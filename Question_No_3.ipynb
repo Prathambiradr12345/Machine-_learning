{
  "nbformat": 4,
  "nbformat_minor": 0,
  "metadata": {
    "colab": {
      "provenance": [],
      "authorship_tag": "ABX9TyOrlZDiFRw9u4XKxUObe9xi",
      "include_colab_link": true
    },
    "kernelspec": {
      "name": "python3",
      "display_name": "Python 3"
    },
    "language_info": {
      "name": "python"
    }
  },
  "cells": [
    {
      "cell_type": "markdown",
      "metadata": {
        "id": "view-in-github",
        "colab_type": "text"
      },
      "source": [
        "<a href=\"https://colab.research.google.com/github/Prathambiradr12345/Machine-_learning/blob/main/Question_No_3.ipynb\" target=\"_parent\"><img src=\"https://colab.research.google.com/assets/colab-badge.svg\" alt=\"Open In Colab\"/></a>"
      ]
    },
    {
      "cell_type": "code",
      "execution_count": 1,
      "metadata": {
        "colab": {
          "base_uri": "https://localhost:8080/"
        },
        "id": "uLCy0jl8Q6kS",
        "outputId": "177f2c9d-9b01-42d4-d498-ec17f74b2044"
      },
      "outputs": [
        {
          "output_type": "stream",
          "name": "stdout",
          "text": [
            "                 Survival Rate (%)  Number of Survivors\n",
            "Pclass Sex                                             \n",
            "1      female 0              100.0                   50\n",
            "       male   0                0.0                    0\n",
            "2      female 0              100.0                   30\n",
            "       male   0                0.0                    0\n",
            "3      female 0              100.0                   72\n",
            "       male   0                0.0                    0\n"
          ]
        },
        {
          "output_type": "stream",
          "name": "stderr",
          "text": [
            "<ipython-input-1-bce50124df6c>:16: DeprecationWarning: DataFrameGroupBy.apply operated on the grouping columns. This behavior is deprecated, and in a future version of pandas the grouping columns will be excluded from the operation. Either pass `include_groups=False` to exclude the groupings or explicitly select the grouping columns after groupby to silence this warning.\n",
            "  result = titanic_data.groupby(['Pclass', 'Sex']).apply(calculate_survival_stats)\n"
          ]
        }
      ],
      "source": [
        "import pandas as pd\n",
        "\n",
        "# Load the Titanic dataset\n",
        "titanic_data = pd.read_csv('tested.csv')\n",
        "\n",
        "# Define the custom transformation function\n",
        "def calculate_survival_stats(df):\n",
        "    # Calculate the survival rate and number of survivors for each group\n",
        "    survival_rate = df['Survived'].mean() * 100\n",
        "    num_survivors = df['Survived'].sum()\n",
        "\n",
        "    # Return the result as a DataFrame\n",
        "    return pd.DataFrame({'Survival Rate (%)': [survival_rate], 'Number of Survivors': [num_survivors]})\n",
        "\n",
        "# Apply the transformation function to each group\n",
        "result = titanic_data.groupby(['Pclass', 'Sex']).apply(calculate_survival_stats)\n",
        "\n",
        "# Print the result\n",
        "print(result)"
      ]
    }
  ]
}