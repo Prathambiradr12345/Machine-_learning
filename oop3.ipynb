{
  "nbformat": 4,
  "nbformat_minor": 0,
  "metadata": {
    "colab": {
      "provenance": [],
      "authorship_tag": "ABX9TyMEb0CSxV87cgCGDazyLWtP",
      "include_colab_link": true
    },
    "kernelspec": {
      "name": "python3",
      "display_name": "Python 3"
    },
    "language_info": {
      "name": "python"
    }
  },
  "cells": [
    {
      "cell_type": "markdown",
      "metadata": {
        "id": "view-in-github",
        "colab_type": "text"
      },
      "source": [
        "<a href=\"https://colab.research.google.com/github/Prathambiradr12345/Machine-_learning/blob/main/oop3.ipynb\" target=\"_parent\"><img src=\"https://colab.research.google.com/assets/colab-badge.svg\" alt=\"Open In Colab\"/></a>"
      ]
    },
    {
      "cell_type": "code",
      "execution_count": null,
      "metadata": {
        "colab": {
          "base_uri": "https://localhost:8080/"
        },
        "id": "PCWCZIwK5rhp",
        "outputId": "d1de83e9-96bb-45d4-8fa0-c3d78ef3d30c"
      },
      "outputs": [
        {
          "output_type": "stream",
          "name": "stdout",
          "text": [
            "gurgaon 122011 haryana\n",
            "mumbai 111111 maharastra\n"
          ]
        }
      ],
      "source": [
        "class Customer:\n",
        "\n",
        "  def __init__(self,name,gender,address):\n",
        "    self.name = name\n",
        "    self.gender = gender\n",
        "    self.address = address\n",
        "\n",
        "  def print_address(self):\n",
        "    print(self.address._Address__city,self.address.pin,self.address.state)\n",
        "\n",
        "  def edit_profile(self,new_name,new_city,new_pin,new_state):\n",
        "    self.name = new_name\n",
        "    self.address.edit_address(new_city,new_pin,new_state)\n",
        "\n",
        "class Address:\n",
        "\n",
        "  def __init__(self,city,pin,state):\n",
        "      self.__city = city\n",
        "      self.pin = pin\n",
        "      self.state = state\n",
        "\n",
        "  def get_city(self):\n",
        "    return self.__city\n",
        "\n",
        "  def edit_address(self,new_city,new_pin,new_state):\n",
        "    self.__city = new_city\n",
        "    self.pin = new_pin\n",
        "    self.state = new_state\n",
        "\n",
        "add1 = Address('gurgaon',122011,'haryana')\n",
        "cust = Customer('nitish','male',add1)\n",
        "\n",
        "cust.print_address()\n",
        "\n",
        "cust.edit_profile('ankit','mumbai',111111,'maharastra')\n",
        "cust.print_address()\n",
        "# method example\n",
        "# what about private attribute"
      ]
    },
    {
      "source": [
        "#class relatioship\n",
        "#aggreation=has a relationship\n",
        "class customer:\n",
        "  def __init__(self, name, gender, address): # Added name, gender, and address as arguments\n",
        "    self.name=name\n",
        "    self.gender=gender\n",
        "    self.address=address\n",
        "  def print_address(self):\n",
        "    print(self.address.city,self.address.pin,self.address.state)\n",
        "class address:\n",
        "  def __init__(self,city,pin,state):\n",
        "    self.city=city\n",
        "    self.pin=pin\n",
        "    self.state=state\n",
        "add1=address('latur',413019,'mh')\n",
        "cust=customer('amit','male',add1)\n",
        "cust.print_address()"
      ],
      "cell_type": "code",
      "metadata": {
        "colab": {
          "base_uri": "https://localhost:8080/"
        },
        "id": "GMug6Hb799kc",
        "outputId": "11406279-7008-4c19-c125-fbda20fbf697"
      },
      "execution_count": null,
      "outputs": [
        {
          "output_type": "stream",
          "name": "stdout",
          "text": [
            "latur 413019 mh\n"
          ]
        }
      ]
    },
    {
      "cell_type": "code",
      "source": [
        "#class diagram of object\n"
      ],
      "metadata": {
        "id": "rnEVbPm8A3MO"
      },
      "execution_count": null,
      "outputs": []
    },
    {
      "source": [
        "#inheritance\n",
        "#benefit of inheritance=code reusability\n",
        "class user:\n",
        "  def __init__(self):\n",
        "    self.name='nitish'\n",
        "  def login(self):\n",
        "    print('login')\n",
        "class student(user):\n",
        "  def __init__(self):\n",
        "    # Call the parent class's __init__ to initialize the name attribute\n",
        "    super().__init__()\n",
        "    self.rollno=123\n",
        "  def study(self):\n",
        "    print('study')\n",
        "u=user()\n",
        "s=student()\n",
        "print(s.name)\n",
        "print(s.rollno)"
      ],
      "cell_type": "code",
      "metadata": {
        "colab": {
          "base_uri": "https://localhost:8080/"
        },
        "id": "kp1dbrGTf5xF",
        "outputId": "6c124b44-c95d-4c61-f5b9-6534f72496bb"
      },
      "execution_count": 7,
      "outputs": [
        {
          "output_type": "stream",
          "name": "stdout",
          "text": [
            "nitish\n",
            "123\n"
          ]
        }
      ]
    },
    {
      "cell_type": "code",
      "source": [
        "class p:\n",
        "  def __init__(self,price,brand,camera):\n",
        "    self.price=price\n",
        "    self.brand=brand\n",
        "    self.camera=camera\n",
        "    print('parent class')\n",
        "  def buy(self):\n",
        "    print('buy phone')\n",
        "class s(p):\n",
        "  pass\n",
        "s=s(20000,'sam',13)\n"
      ],
      "metadata": {
        "colab": {
          "base_uri": "https://localhost:8080/"
        },
        "id": "_eXOB_eMf1Re",
        "outputId": "786ab98c-b6c1-4a87-cc9e-7c07750eb00a"
      },
      "execution_count": 9,
      "outputs": [
        {
          "output_type": "stream",
          "name": "stdout",
          "text": [
            "parent class\n"
          ]
        }
      ]
    },
    {
      "cell_type": "code",
      "source": [
        "class parent:\n",
        "  def __init__(self,num):\n",
        "    self.__num=num\n",
        "  def get_num(self):\n",
        "    return self.__num\n",
        "class child(parent):\n",
        "  def show(self):\n",
        "    print(\"child class\")\n",
        "son=child(100)\n",
        "print(son.get_num)\n",
        "son.show()\n"
      ],
      "metadata": {
        "colab": {
          "base_uri": "https://localhost:8080/"
        },
        "id": "LIUsmFNahEAH",
        "outputId": "5b80d51d-f299-450c-a7e3-160f088a0902"
      },
      "execution_count": 11,
      "outputs": [
        {
          "output_type": "stream",
          "name": "stdout",
          "text": [
            "<bound method parent.get_num of <__main__.child object at 0x7bd355e91900>>\n",
            "child class\n"
          ]
        }
      ]
    },
    {
      "cell_type": "code",
      "source": [
        "class parent:\n",
        "  def __init__(self,num):\n",
        "    self.__num=num\n",
        "  def get_num(self):\n",
        "    return self.__num\n",
        "class child(parent):\n",
        "  def __init__(self,num,val):\n",
        "    self.__val=val\n",
        "  def get_num(self):\n",
        "    return self.__val\n",
        "son=child(100,10)\n",
        "print('parent:',son.get_num())\n",
        "print('child:',son.get_val())"
      ],
      "metadata": {
        "colab": {
          "base_uri": "https://localhost:8080/",
          "height": 193
        },
        "id": "bYl4gd2sjJgZ",
        "outputId": "6997f064-250f-4785-ba3d-f3e4f3683dd6"
      },
      "execution_count": 13,
      "outputs": [
        {
          "output_type": "stream",
          "name": "stdout",
          "text": [
            "parent: 10\n"
          ]
        },
        {
          "output_type": "error",
          "ename": "AttributeError",
          "evalue": "'child' object has no attribute 'get_val'",
          "traceback": [
            "\u001b[0;31m---------------------------------------------------------------------------\u001b[0m",
            "\u001b[0;31mAttributeError\u001b[0m                            Traceback (most recent call last)",
            "\u001b[0;32m<ipython-input-13-b24c3951982b>\u001b[0m in \u001b[0;36m<cell line: 13>\u001b[0;34m()\u001b[0m\n\u001b[1;32m     11\u001b[0m \u001b[0mson\u001b[0m\u001b[0;34m=\u001b[0m\u001b[0mchild\u001b[0m\u001b[0;34m(\u001b[0m\u001b[0;36m100\u001b[0m\u001b[0;34m,\u001b[0m\u001b[0;36m10\u001b[0m\u001b[0;34m)\u001b[0m\u001b[0;34m\u001b[0m\u001b[0;34m\u001b[0m\u001b[0m\n\u001b[1;32m     12\u001b[0m \u001b[0mprint\u001b[0m\u001b[0;34m(\u001b[0m\u001b[0;34m'parent:'\u001b[0m\u001b[0;34m,\u001b[0m\u001b[0mson\u001b[0m\u001b[0;34m.\u001b[0m\u001b[0mget_num\u001b[0m\u001b[0;34m(\u001b[0m\u001b[0;34m)\u001b[0m\u001b[0;34m)\u001b[0m\u001b[0;34m\u001b[0m\u001b[0;34m\u001b[0m\u001b[0m\n\u001b[0;32m---> 13\u001b[0;31m \u001b[0mprint\u001b[0m\u001b[0;34m(\u001b[0m\u001b[0;34m'child:'\u001b[0m\u001b[0;34m,\u001b[0m\u001b[0mson\u001b[0m\u001b[0;34m.\u001b[0m\u001b[0mget_val\u001b[0m\u001b[0;34m(\u001b[0m\u001b[0;34m)\u001b[0m\u001b[0;34m)\u001b[0m\u001b[0;34m\u001b[0m\u001b[0;34m\u001b[0m\u001b[0m\n\u001b[0m",
            "\u001b[0;31mAttributeError\u001b[0m: 'child' object has no attribute 'get_val'"
          ]
        }
      ]
    },
    {
      "source": [
        "class parent:\n",
        "  def __init__(self,num):\n",
        "    self.__num=num\n",
        "  def get_num(self):\n",
        "    return self.__num\n",
        "class child(parent):\n",
        "  def __init__(self,num,val):\n",
        "    # Call the parent class's __init__ to initialize the num attribute\n",
        "    super().__init__(num)\n",
        "    self.__val=val\n",
        "  def get_val(self): # Define a method to get the value of __val\n",
        "    return self.__val\n",
        "son=child(100,10)\n",
        "print('parent:',son.get_num())\n",
        "print('child:',son.get_val()) # Call the correct method to get __val"
      ],
      "cell_type": "code",
      "metadata": {
        "colab": {
          "base_uri": "https://localhost:8080/"
        },
        "id": "XOXvugNqlR6W",
        "outputId": "668a8b43-9607-482a-9689-6e128c38028c"
      },
      "execution_count": 14,
      "outputs": [
        {
          "output_type": "stream",
          "name": "stdout",
          "text": [
            "parent: 100\n",
            "child: 10\n"
          ]
        }
      ]
    },
    {
      "cell_type": "code",
      "source": [
        "#method Overridding=same function but called to child class\n",
        "class phone:\n",
        "  def __init__(self,price,brand,camera):\n",
        "    print('parent class')\n",
        "    self.price=price\n",
        "    self.brand=brand\n",
        "    self.camera=camera\n",
        "  def buy(self):\n",
        "    print('buy phone')\n",
        "class smartphone(phone):\n",
        "  def buy(self):\n",
        "    print('buy smartphone')\n",
        "s=smartphone(20000,'samsung',13)\n",
        "s.buy()"
      ],
      "metadata": {
        "colab": {
          "base_uri": "https://localhost:8080/"
        },
        "id": "Zp04XoyqlTFn",
        "outputId": "a4936afc-111e-4d21-df40-2699959df7af"
      },
      "execution_count": 15,
      "outputs": [
        {
          "output_type": "stream",
          "name": "stdout",
          "text": [
            "parent class\n",
            "buy smartphone\n"
          ]
        }
      ]
    },
    {
      "cell_type": "code",
      "source": [
        "#super keyword=is called to parent class method\n",
        "class phone:\n",
        "  def __init__(self,price,brand,camera):\n",
        "    print('parent class')\n",
        "    self.price=price\n",
        "    self.brand=brand\n",
        "    self.camera=camera\n",
        "class smartphone(phone):\n",
        "  def __init__(self, price, brand, camera,os,ram):\n",
        "    super().__init__(price, brand, camera)\n",
        "    self.os=os\n",
        "    self.ram=ram\n",
        "    print(\"Inside smartphone constructor\")\n",
        "s=smartphone(20000,'sam',12,'android',2)\n",
        "print(s.os)\n",
        "print(s.brand)\n",
        "\n"
      ],
      "metadata": {
        "colab": {
          "base_uri": "https://localhost:8080/"
        },
        "id": "KkvkEBjtmADH",
        "outputId": "d4a668d8-a288-4305-86d7-b72ce8ded68d"
      },
      "execution_count": 17,
      "outputs": [
        {
          "output_type": "stream",
          "name": "stdout",
          "text": [
            "parent class\n",
            "Inside smartphone constructor\n",
            "android\n",
            "sam\n"
          ]
        }
      ]
    },
    {
      "cell_type": "code",
      "source": [
        "#Single inheritance\n",
        "class p:\n",
        "  def __init__(self,price,brand,camera):\n",
        "    self.price=price\n",
        "    self.brand=brand\n",
        "    self.camera=camera\n",
        "    print('parent class')\n",
        "  def buy(self):\n",
        "    print('buy phone')\n",
        "class s(p):\n",
        "  pass\n",
        "d=s(1111,'apple','13px').buy()"
      ],
      "metadata": {
        "colab": {
          "base_uri": "https://localhost:8080/"
        },
        "id": "m727oUSYnmxN",
        "outputId": "6bbc23ff-1c64-4eda-b441-516218a49bb0"
      },
      "execution_count": 18,
      "outputs": [
        {
          "output_type": "stream",
          "name": "stdout",
          "text": [
            "parent class\n",
            "buy phone\n"
          ]
        }
      ]
    },
    {
      "cell_type": "code",
      "source": [
        "#mutilevel\n",
        "class p:\n",
        "  def __init__(self,price,brand,camera):\n",
        "    self.price=price\n",
        "    self.brand=brand\n",
        "    self.camera=camera\n",
        "    print('parent class')\n",
        "  def buy(self):\n",
        "    print('buy phone')\n",
        "class s(p):\n"
      ],
      "metadata": {
        "id": "GwYc145ovce2"
      },
      "execution_count": null,
      "outputs": []
    },
    {
      "cell_type": "code",
      "source": [
        "#polymorphism\n",
        "#method Overriding\n",
        "#method Overloading=code is more cleannot work in python\n",
        "class shape:\n",
        "  def area(self,a,b=0):\n",
        "    if b==0:\n",
        "      return 3.14*a*a\n",
        "    else:\n",
        "      return a*b\n",
        "s=shape()\n",
        "print(s.area(2))\n",
        "print(s.area(3,4))\n",
        "\n"
      ],
      "metadata": {
        "colab": {
          "base_uri": "https://localhost:8080/"
        },
        "id": "_UPqsQlOw818",
        "outputId": "80f391d3-b4c2-44f0-fe62-a65cf83b3c73"
      },
      "execution_count": 19,
      "outputs": [
        {
          "output_type": "stream",
          "name": "stdout",
          "text": [
            "12.56\n",
            "12\n"
          ]
        }
      ]
    },
    {
      "cell_type": "code",
      "source": [
        "#operator Overloading\n",
        "'hello'+'world'\n",
        "4+5\n",
        "[1,2,3] + [4,5]\n",
        "\n",
        "class multiply:\n",
        "  def __init__(self,a):\n",
        "    self.a=a\n",
        "  def __mul__(self,other):\n",
        "    return self.a*other.a\n"
      ],
      "metadata": {
        "id": "wPAivNGry7LC"
      },
      "execution_count": 20,
      "outputs": []
    },
    {
      "cell_type": "code",
      "source": [],
      "metadata": {
        "id": "JCDXF2oo0X86"
      },
      "execution_count": null,
      "outputs": []
    }
  ]
}