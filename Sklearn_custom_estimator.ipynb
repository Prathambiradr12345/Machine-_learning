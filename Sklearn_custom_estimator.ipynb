{
  "nbformat": 4,
  "nbformat_minor": 0,
  "metadata": {
    "colab": {
      "provenance": [],
      "authorship_tag": "ABX9TyOaEC84GCYE39MzHA44CQvH",
      "include_colab_link": true
    },
    "kernelspec": {
      "name": "python3",
      "display_name": "Python 3"
    },
    "language_info": {
      "name": "python"
    }
  },
  "cells": [
    {
      "cell_type": "markdown",
      "metadata": {
        "id": "view-in-github",
        "colab_type": "text"
      },
      "source": [
        "<a href=\"https://colab.research.google.com/github/Prathambiradr12345/Machine-_learning/blob/main/Sklearn_custom_estimator.ipynb\" target=\"_parent\"><img src=\"https://colab.research.google.com/assets/colab-badge.svg\" alt=\"Open In Colab\"/></a>"
      ]
    },
    {
      "cell_type": "code",
      "execution_count": 1,
      "metadata": {
        "id": "F5qeTEn7KHfR"
      },
      "outputs": [],
      "source": [
        "from sklearn.base import BaseEstimator,ClassifierMixin\n",
        "import numpy as np\n",
        "from sklearn.utils import check_X_y\n"
      ]
    },
    {
      "cell_type": "markdown",
      "source": [
        "Custom Estimator"
      ],
      "metadata": {
        "id": "f9tDrfXaKy9f"
      }
    },
    {
      "cell_type": "code",
      "source": [
        "class MostFrequentClassClassifier(BaseEstimator, ClassifierMixin):\n",
        "    def __init__(self):\n",
        "        self.most_frequent_ = None\n",
        "\n",
        "    def fit(self, X, y):\n",
        "\n",
        "        # Validate input X and target vector y\n",
        "        X, y = check_X_y(X, y)\n",
        "\n",
        "        # Ensure y is 1D\n",
        "        y = np.ravel(y)\n",
        "\n",
        "        # Manually compute the most frequent class\n",
        "        unique_classes, counts = np.unique(y, return_counts=True)\n",
        "        self.most_frequent_ = unique_classes[np.argmax(counts)]\n",
        "\n",
        "        return self\n",
        "\n",
        "    def predict(self, X):\n",
        "        if self.most_frequent_ is None:\n",
        "            raise ValueError(\"This classifier instance is not fitted yet.\")\n",
        "        # Predict the most frequent class for each input sample\n",
        "        return np.full(shape=(X.shape[0],), fill_value=self.most_frequent_)\n"
      ],
      "metadata": {
        "id": "duC-dJ8xNtv7"
      },
      "execution_count": 4,
      "outputs": []
    },
    {
      "cell_type": "code",
      "source": [
        "from sklearn.model_selection import train_test_split\n",
        "from sklearn.datasets import load_iris\n",
        "\n",
        "# Load data\n",
        "iris = load_iris()\n",
        "X, y = iris.data, iris.target\n",
        "\n",
        "# Split the data\n",
        "X_train, X_test, y_train, y_test = train_test_split(X, y, random_state=42)\n",
        "\n",
        "# Initialize and fit the custom estimator\n",
        "classifier = MostFrequentClassClassifier()\n",
        "classifier.fit(X_train, y_train)\n",
        "\n",
        "# Make predictions\n",
        "#predictions = classifier.predict(X_test)\n",
        "\n",
        "# Evaluate the custom estimator\n",
        "print(f\"Predicted class for all test instances: {predictions[0]}\")"
      ],
      "metadata": {
        "colab": {
          "base_uri": "https://localhost:8080/"
        },
        "id": "lQg0kLVsNdDy",
        "outputId": "18e54a31-8552-4069-e985-f6a9333c951c"
      },
      "execution_count": 5,
      "outputs": [
        {
          "output_type": "stream",
          "name": "stdout",
          "text": [
            "Predicted class for all test instances: 1\n"
          ]
        }
      ]
    },
    {
      "cell_type": "code",
      "source": [
        "classifier.most_frequent_"
      ],
      "metadata": {
        "colab": {
          "base_uri": "https://localhost:8080/"
        },
        "id": "rEletarPN3Qy",
        "outputId": "c03c19c0-6e86-4593-9997-1c06431bf673"
      },
      "execution_count": 6,
      "outputs": [
        {
          "output_type": "execute_result",
          "data": {
            "text/plain": [
              "1"
            ]
          },
          "metadata": {},
          "execution_count": 6
        }
      ]
    },
    {
      "cell_type": "code",
      "source": [
        "from sklearn.model_selection import cross_val_score\n",
        "\n",
        "cross_val_score(classifier, X_train, y_train)"
      ],
      "metadata": {
        "colab": {
          "base_uri": "https://localhost:8080/"
        },
        "id": "cY1k83ulN664",
        "outputId": "8ec4bf3b-2875-45cd-ce5a-64c71aa1d656"
      },
      "execution_count": 7,
      "outputs": [
        {
          "output_type": "execute_result",
          "data": {
            "text/plain": [
              "array([0.34782609, 0.26086957, 0.27272727, 0.18181818, 0.31818182])"
            ]
          },
          "metadata": {},
          "execution_count": 7
        }
      ]
    },
    {
      "cell_type": "markdown",
      "source": [
        "Scoing Function"
      ],
      "metadata": {
        "id": "Vg1z0KiwN-P4"
      }
    },
    {
      "cell_type": "code",
      "source": [
        "from sklearn.base import BaseEstimator, ClassifierMixin\n",
        "from sklearn.metrics import accuracy_score\n",
        "import numpy as np\n",
        "\n",
        "class MostFrequentClassClassifier(BaseEstimator, ClassifierMixin):\n",
        "    def __init__(self):\n",
        "        self.most_frequent_ = None\n",
        "\n",
        "    def fit(self, X, y):\n",
        "        # Ensure y is 1D\n",
        "        y = np.ravel(y)\n",
        "\n",
        "        # Compute the most frequent class\n",
        "        unique_classes, counts = np.unique(y, return_counts=True)\n",
        "        self.most_frequent_ = unique_classes[np.argmax(counts)]\n",
        "        return self\n",
        "\n",
        "    def predict(self, X):\n",
        "        if self.most_frequent_ is None:\n",
        "            raise ValueError(\"This classifier instance is not fitted yet.\")\n",
        "        # Predict the most frequent class for each input sample\n",
        "        return np.full(shape=(X.shape[0],), fill_value=self.most_frequent_)\n",
        "\n",
        "    def score(self, X, y):\n",
        "        \"\"\"Return the mean accuracy on the given test data and labels.\"\"\"\n",
        "        # Ensure y is 1D\n",
        "        y = np.ravel(y)\n",
        "\n",
        "        # Generate predictions\n",
        "        predictions = self.predict(X)"
      ],
      "metadata": {
        "id": "WsYQhPSPOD_0"
      },
      "execution_count": 8,
      "outputs": []
    }
  ]
}