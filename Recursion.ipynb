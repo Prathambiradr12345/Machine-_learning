{
  "nbformat": 4,
  "nbformat_minor": 0,
  "metadata": {
    "colab": {
      "provenance": [],
      "authorship_tag": "ABX9TyO/n+9FoRUr7WBEBdna8xkg",
      "include_colab_link": true
    },
    "kernelspec": {
      "name": "python3",
      "display_name": "Python 3"
    },
    "language_info": {
      "name": "python"
    }
  },
  "cells": [
    {
      "cell_type": "markdown",
      "metadata": {
        "id": "view-in-github",
        "colab_type": "text"
      },
      "source": [
        "<a href=\"https://colab.research.google.com/github/Prathambiradr12345/Machine-_learning/blob/main/Recursion.ipynb\" target=\"_parent\"><img src=\"https://colab.research.google.com/assets/colab-badge.svg\" alt=\"Open In Colab\"/></a>"
      ]
    },
    {
      "cell_type": "code",
      "execution_count": 1,
      "metadata": {
        "colab": {
          "base_uri": "https://localhost:8080/"
        },
        "id": "3C_tImWoLq2G",
        "outputId": "544ab49c-2bba-4bae-d3d4-d85747fa22c3"
      },
      "outputs": [
        {
          "output_type": "stream",
          "name": "stdout",
          "text": [
            "12\n"
          ]
        }
      ],
      "source": [
        "def m(a,b):\n",
        "  r=0\n",
        "  for i in range(b):\n",
        "    r=r+a\n",
        "  print(r)\n",
        "m(3,4)"
      ]
    },
    {
      "cell_type": "code",
      "source": [
        "def m(a,b):\n",
        "  if b==1:\n",
        "    return a\n",
        "  else:\n",
        "    return a+m(a,b-1)\n",
        "m(5,6)\n"
      ],
      "metadata": {
        "colab": {
          "base_uri": "https://localhost:8080/"
        },
        "id": "iO5h6RVMNGMd",
        "outputId": "aeb57066-9c98-49ac-f139-da9513bc55ac"
      },
      "execution_count": 2,
      "outputs": [
        {
          "output_type": "execute_result",
          "data": {
            "text/plain": [
              "30"
            ]
          },
          "metadata": {},
          "execution_count": 2
        }
      ]
    },
    {
      "cell_type": "code",
      "source": [
        "def f(n):\n",
        "  if n==1:\n",
        "    return 1\n",
        "  else:\n",
        "    return n*f(n-1)\n",
        "f(5)"
      ],
      "metadata": {
        "colab": {
          "base_uri": "https://localhost:8080/"
        },
        "id": "ZXzXsXhbOLH0",
        "outputId": "eddf398b-da84-43b4-c461-11e777d3bb81"
      },
      "execution_count": 4,
      "outputs": [
        {
          "output_type": "execute_result",
          "data": {
            "text/plain": [
              "120"
            ]
          },
          "metadata": {},
          "execution_count": 4
        }
      ]
    },
    {
      "cell_type": "code",
      "source": [
        "def p(t):\n",
        "  if len(t)==1:\n",
        "    print(\"pali\")\n",
        "  else:\n",
        "    if t[0]==t[-1]:\n",
        "      return p(t[1:-1])\n",
        "    else:\n",
        "      print(\"not a palin\")\n",
        "p('madpm')\n"
      ],
      "metadata": {
        "colab": {
          "base_uri": "https://localhost:8080/"
        },
        "id": "Zy1CN1V3PxkZ",
        "outputId": "ea9f32ea-3e57-4081-dde2-7b6195b19466"
      },
      "execution_count": 7,
      "outputs": [
        {
          "output_type": "stream",
          "name": "stdout",
          "text": [
            "not a palin\n"
          ]
        }
      ]
    },
    {
      "cell_type": "code",
      "source": [
        "def s(y):\n",
        "  if len(y)<=1:\n",
        "    print(\"pali\")\n",
        "  else:\n",
        "    if y[0]==y[-1]:\n",
        "      return s(y[1:-1])\n",
        "    else:\n",
        "      print(\" not pali\")\n",
        "s('madam')"
      ],
      "metadata": {
        "colab": {
          "base_uri": "https://localhost:8080/"
        },
        "id": "awXhjymXR1LG",
        "outputId": "381be1f5-e1fd-4430-cf53-f1ed30fe2fab"
      },
      "execution_count": 12,
      "outputs": [
        {
          "output_type": "stream",
          "name": "stdout",
          "text": [
            "pali\n"
          ]
        }
      ]
    },
    {
      "cell_type": "code",
      "source": [
        "l=[1,2,3]\n",
        "type(l)"
      ],
      "metadata": {
        "id": "8UBkXjqzY4u5"
      },
      "execution_count": null,
      "outputs": []
    },
    {
      "cell_type": "code",
      "source": [],
      "metadata": {
        "id": "gguFdEOTdL5g"
      },
      "execution_count": null,
      "outputs": []
    }
  ]
}