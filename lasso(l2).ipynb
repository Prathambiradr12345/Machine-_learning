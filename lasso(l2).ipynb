{
  "nbformat": 4,
  "nbformat_minor": 0,
  "metadata": {
    "colab": {
      "provenance": [],
      "authorship_tag": "ABX9TyPHDYfaEWPd5ZtPaAACUKwC",
      "include_colab_link": true
    },
    "kernelspec": {
      "name": "python3",
      "display_name": "Python 3"
    },
    "language_info": {
      "name": "python"
    }
  },
  "cells": [
    {
      "cell_type": "markdown",
      "metadata": {
        "id": "view-in-github",
        "colab_type": "text"
      },
      "source": [
        "<a href=\"https://colab.research.google.com/github/Prathambiradr12345/Machine-_learning/blob/main/lasso(l2).ipynb\" target=\"_parent\"><img src=\"https://colab.research.google.com/assets/colab-badge.svg\" alt=\"Open In Colab\"/></a>"
      ]
    },
    {
      "cell_type": "code",
      "execution_count": null,
      "metadata": {
        "id": "XJHwGGbGYuC2"
      },
      "outputs": [],
      "source": [
        "#why lasso coefficients is 0\n",
        "#in formula for m>0=is used -lambda that reason coefficcients is 0\n",
        "#why lasso coefficicents is not negative\n",
        "#in formula for m<0=is used +lambda that reason coefficicents is negative\n",
        "#lasso in lambda is numerator term that reason coefficients is 0\n",
        "#ridge in lambda is denominator term that depend on numeratr"
      ]
    }
  ]
}