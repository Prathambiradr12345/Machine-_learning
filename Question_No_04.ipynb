{
  "nbformat": 4,
  "nbformat_minor": 0,
  "metadata": {
    "colab": {
      "provenance": [],
      "authorship_tag": "ABX9TyMX5puTKu9GWRatPxOH5XrK",
      "include_colab_link": true
    },
    "kernelspec": {
      "name": "python3",
      "display_name": "Python 3"
    },
    "language_info": {
      "name": "python"
    }
  },
  "cells": [
    {
      "cell_type": "markdown",
      "metadata": {
        "id": "view-in-github",
        "colab_type": "text"
      },
      "source": [
        "<a href=\"https://colab.research.google.com/github/Prathambiradr12345/Machine-_learning/blob/main/Question_No_04.ipynb\" target=\"_parent\"><img src=\"https://colab.research.google.com/assets/colab-badge.svg\" alt=\"Open In Colab\"/></a>"
      ]
    },
    {
      "cell_type": "code",
      "execution_count": null,
      "metadata": {
        "colab": {
          "base_uri": "https://localhost:8080/"
        },
        "id": "G4cDNldqgZJn",
        "outputId": "c552fb8b-7485-4828-df41-92fe8f8ce63f"
      },
      "outputs": [
        {
          "output_type": "stream",
          "name": "stdout",
          "text": [
            "Monthly Averages:\n",
            "                  Fare        Age\n",
            "Date                            \n",
            "2023-01-31  31.237906  33.964286\n",
            "2023-02-28  32.554764  30.547619\n",
            "2023-03-31  57.935213  29.680000\n",
            "2023-04-30  26.863060  29.521739\n",
            "2023-05-31  33.897445  30.312500\n",
            "\n",
            "Fare with 7-day Rolling Average and Lagged Fare:\n",
            "                Fare  Fare_7day_Rolling_Avg  Fare_Lagged\n",
            "Date                                                   \n",
            "2023-01-01   7.8292                    NaN          NaN\n",
            "2023-01-02   7.0000                    NaN       7.8292\n",
            "2023-01-03   9.6875                    NaN       7.0000\n",
            "2023-01-04   8.6625                    NaN       9.6875\n",
            "2023-01-05  12.2875                    NaN       8.6625\n",
            "2023-01-06   9.2250                    NaN      12.2875\n",
            "2023-01-07   7.6292               8.902986       9.2250\n",
            "2023-01-08  29.0000              11.927386       7.6292\n",
            "2023-01-09   7.2292              11.960129      29.0000\n",
            "2023-01-10  24.1500              14.026200       7.2292\n",
            "2023-01-11   7.8958              13.916671      24.1500\n",
            "2023-01-12  26.0000              15.875600       7.8958\n",
            "2023-01-13  82.2667              26.310129      26.0000\n",
            "2023-01-14  26.0000              28.934529      82.2667\n",
            "2023-01-15  61.1750              33.530957      26.0000\n"
          ]
        },
        {
          "output_type": "stream",
          "name": "stderr",
          "text": [
            "<ipython-input-1-7918dad1b8bf>:12: FutureWarning: 'M' is deprecated and will be removed in a future version, please use 'ME' instead.\n",
            "  monthly_avg = titanic_df.resample('M')[['Fare', 'Age']].mean()\n"
          ]
        }
      ],
      "source": [
        "import pandas as pd\n",
        "\n",
        "# Load the dataset\n",
        "\n",
        "titanic_df = pd.read_csv('tested.csv')\n",
        "\n",
        "# Create a timeseries\n",
        "titanic_df['Date'] = pd.date_range(start='1/1/2023', periods=len(titanic_df), freq='D')\n",
        "titanic_df.set_index('Date', inplace=True)\n",
        "\n",
        "# Resample by month to get the average fare and age\n",
        "monthly_avg = titanic_df.resample('M')[['Fare', 'Age']].mean()\n",
        "\n",
        "# Calculate a 7-day rolling average for Fare\n",
        "titanic_df['Fare_7day_Rolling_Avg'] = titanic_df['Fare'].rolling(window=7).mean()\n",
        "\n",
        "# Create a 1-day lagged column for Fare\n",
        "titanic_df['Fare_Lagged'] = titanic_df['Fare'].shift(1)\n",
        "\n",
        "# Display all results\n",
        "print(\"Monthly Averages:\\n\", monthly_avg.head())\n",
        "print(\"\\nFare with 7-day Rolling Average and Lagged Fare:\\n\", titanic_df[['Fare', 'Fare_7day_Rolling_Avg', 'Fare_Lagged']].head(15))\n"
      ]
    }
  ]
}