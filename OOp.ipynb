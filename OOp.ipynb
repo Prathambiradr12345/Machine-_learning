{
  "cells": [
    {
      "cell_type": "markdown",
      "metadata": {
        "id": "view-in-github",
        "colab_type": "text"
      },
      "source": [
        "<a href=\"https://colab.research.google.com/github/Prathambiradr12345/Machine-_learning/blob/main/OOp.ipynb\" target=\"_parent\"><img src=\"https://colab.research.google.com/assets/colab-badge.svg\" alt=\"Open In Colab\"/></a>"
      ]
    },
    {
      "source": [
        "class Atm:\n",
        "  def __init__(self):\n",
        "    print(id(self))\n",
        "    self.pin = '' # Corrected indentation to 4 spaces\n",
        "    self.balance = 0\n",
        "    #self.menu()\n",
        "    print(\"Done for day\")\n",
        "\n",
        "  def menu(self):\n",
        "    user_input = input(\"\"\"\n",
        "    hi\n",
        "    1.press 1 for pin\n",
        "    2.press 2 for change pin\n",
        "    3.press 3 for check balance\n",
        "    4.press 4 for withdraw\n",
        "    5.anything exit\n",
        "    \"\"\")\n",
        "    if user_input == '1':\n",
        "      self.create_pin()  # Now this can find create_pin\n",
        "    elif user_input == '2':\n",
        "      self.change_pin()\n",
        "    elif user_input == '3':\n",
        "      self.check_balance()\n",
        "    elif user_input == '4':\n",
        "      self.withdraw()\n",
        "    else:\n",
        "      exit()\n",
        "\n",
        "  def create_pin(self):  # Moved outside of menu function\n",
        "    self.pin = input(\"enter your pin\")\n",
        "    print(\"pin set successfully\")\n",
        "    self.menu()\n",
        "  def change_pin(self):\n",
        "    old_pin=input(\"enter old pin\")\n",
        "    if old_pin==self.pin:\n",
        "      new_pin=input(\"enter new pin\")\n",
        "      self.pin=new_pin\n",
        "      print(\"pin change successfully\")\n",
        "    else:\n",
        "      print('Wrong Pin')\n",
        "    self.menu()\n",
        "\n",
        "  def check_balance(self):\n",
        "    input_pim=input('enter the pin')\n",
        "    if input_pim==self.pin:\n",
        "      print(self.balance)\n",
        "    else:\n",
        "      print('Wrong Pin')\n",
        "    self.menu()\n",
        "  def withdraw(self):\n",
        "    input_pin=input('enter the pin')\n",
        "    if input_pin==self.pin:\n",
        "      amount=int(input('enter the amount'))\n",
        "      if amount<=self.balance:\n",
        "        self.balance=self.balance-amount\n",
        "        print('withdraw successfully')\n",
        "      else:\n",
        "        print('insufficient balance')\n",
        "    else:\n",
        "      print('Wrong Pin')\n",
        "    self.menu()\n",
        "\n",
        "obj = Atm()"
      ],
      "cell_type": "code",
      "metadata": {
        "colab": {
          "base_uri": "https://localhost:8080/"
        },
        "id": "NY1Nhd4dwNnf",
        "outputId": "7fbdf8fa-4a41-401b-f8e3-f35d9734876f"
      },
      "execution_count": null,
      "outputs": [
        {
          "output_type": "stream",
          "name": "stdout",
          "text": [
            "138154241598912\n",
            "Done for day\n"
          ]
        }
      ]
    },
    {
      "cell_type": "code",
      "source": [
        "#methods Vs functions\n",
        "l=[1,2,3]\n",
        "len(l) #function=outide the list class\n",
        "l.append(4) #method=insde the list class\n"
      ],
      "metadata": {
        "id": "HVQZ-iUop-U3"
      },
      "execution_count": null,
      "outputs": []
    },
    {
      "cell_type": "code",
      "execution_count": null,
      "metadata": {
        "id": "Oj5zj4R5-uRX",
        "colab": {
          "base_uri": "https://localhost:8080/"
        },
        "outputId": "1f93ff15-10ba-44f7-a6b2-6f2440533e9d"
      },
      "outputs": [
        {
          "output_type": "execute_result",
          "data": {
            "text/plain": [
              "105"
            ]
          },
          "metadata": {},
          "execution_count": 3
        }
      ],
      "source": [
        "#magic methods or dunder method\n",
        "dir(int)\n",
        "dir(str)\n",
        "a=100\n",
        "a+5\n",
        "a.__add__(5)"
      ]
    },
    {
      "cell_type": "code",
      "source": [
        "class temp:\n",
        "  def __init__(self):\n",
        "    print(\"Soup\")\n",
        "obj=temp()"
      ],
      "metadata": {
        "colab": {
          "base_uri": "https://localhost:8080/"
        },
        "id": "YzqPHSTttCrK",
        "outputId": "90a2fba7-c8a9-4ce0-d4c0-936ff7b96de9"
      },
      "execution_count": null,
      "outputs": [
        {
          "output_type": "stream",
          "name": "stdout",
          "text": [
            "Soup\n"
          ]
        }
      ]
    },
    {
      "cell_type": "code",
      "source": [
        "obj1=Atm()"
      ],
      "metadata": {
        "colab": {
          "base_uri": "https://localhost:8080/"
        },
        "id": "7yiymQoTyTUo",
        "outputId": "0135b06d-33d0-4425-c4ef-8bcc55569f99"
      },
      "execution_count": null,
      "outputs": [
        {
          "output_type": "stream",
          "name": "stdout",
          "text": [
            "138153340062208\n",
            "Done for day\n"
          ]
        }
      ]
    },
    {
      "cell_type": "code",
      "source": [
        "obj2=Atm()"
      ],
      "metadata": {
        "colab": {
          "base_uri": "https://localhost:8080/"
        },
        "id": "adQzxGs-yfxs",
        "outputId": "dc1ba1a0-a90c-4127-c3d4-e21eac2ed84b"
      },
      "execution_count": null,
      "outputs": [
        {
          "output_type": "stream",
          "name": "stdout",
          "text": [
            "138153340069936\n",
            "Done for day\n"
          ]
        }
      ]
    },
    {
      "cell_type": "code",
      "source": [
        " #constructor\n",
        " #self\n",
        " 3/4*1/2\n"
      ],
      "metadata": {
        "colab": {
          "base_uri": "https://localhost:8080/"
        },
        "id": "YF9MC8svtXVs",
        "outputId": "a8c52ad7-7845-47d7-b4b4-789ddcbe093b"
      },
      "execution_count": null,
      "outputs": [
        {
          "output_type": "execute_result",
          "data": {
            "text/plain": [
              "0.375"
            ]
          },
          "metadata": {},
          "execution_count": 8
        }
      ]
    },
    {
      "source": [
        "class Fraction:\n",
        "    # parameterized Constructor\n",
        "    def __init__(self, x, y):\n",
        "        self.num = x\n",
        "        self.den = y\n",
        "\n",
        "    # functionality\n",
        "    def __str__(self):\n",
        "        return '{}/{}'.format(self.num, self.den)\n",
        "\n",
        "    def __add__(self, other):\n",
        "        new_num = self.num * other.den + other.num * self.den\n",
        "        new_den = self.den * other.den\n",
        "        return '{}/{}'.format(new_num, new_den)\n",
        "\n",
        "    def __sub__(self, other):\n",
        "        new_num = self.num * other.den - other.num * self.den\n",
        "        new_den = self.den * other.den\n",
        "        return '{}/{}'.format(new_num, new_den)\n",
        "\n",
        "    def __mul__(self, other):\n",
        "        new_num = self.num * other.num  # Corrected logic for multiplication\n",
        "        new_den = self.den * other.den  # Corrected logic for multiplication\n",
        "        return '{}/{}'.format(new_num, new_den)\n",
        "\n",
        "    # Corrected indentation for __truediv__ method\n",
        "    def __truediv__(self, other):\n",
        "        new_num = self.num * other.den\n",
        "        new_den = self.den * other.num\n",
        "        return '{}/{}'.format(new_num, new_den)\n",
        "\n",
        "    def convert_to_decimal(self):\n",
        "        return self.num/self.den\n",
        "\n",
        "\n",
        "# Re-create the 'f' object with the updated class definition\n",
        "f = Fraction(3, 4)\n",
        "fr = Fraction(1, 2)\n",
        "\n",
        "# Now call the convert_to_decimal method\n",
        "print(f.convert_to_decimal())"
      ],
      "cell_type": "code",
      "metadata": {
        "colab": {
          "base_uri": "https://localhost:8080/"
        },
        "id": "rb9Q74nc4mEZ",
        "outputId": "e6a5120f-ed58-4254-a11c-617dbdeae23b"
      },
      "execution_count": 51,
      "outputs": [
        {
          "output_type": "stream",
          "name": "stdout",
          "text": [
            "0.75\n"
          ]
        }
      ]
    },
    {
      "cell_type": "code",
      "source": [
        "print(f+fr)"
      ],
      "metadata": {
        "colab": {
          "base_uri": "https://localhost:8080/"
        },
        "id": "12VwYHHX0W1U",
        "outputId": "9207ceb0-4401-4f66-9f63-5043e1baf327"
      },
      "execution_count": 44,
      "outputs": [
        {
          "output_type": "stream",
          "name": "stdout",
          "text": [
            "10/8\n"
          ]
        }
      ]
    },
    {
      "cell_type": "code",
      "source": [
        "print(f-fr)"
      ],
      "metadata": {
        "id": "ODlKqQUy09wl",
        "colab": {
          "base_uri": "https://localhost:8080/"
        },
        "outputId": "7a5796be-42f7-4575-b8b3-65cf99d39db8"
      },
      "execution_count": 43,
      "outputs": [
        {
          "output_type": "stream",
          "name": "stdout",
          "text": [
            "2/8\n"
          ]
        }
      ]
    },
    {
      "cell_type": "code",
      "source": [
        "print(f*fr)"
      ],
      "metadata": {
        "colab": {
          "base_uri": "https://localhost:8080/"
        },
        "id": "wgJjoEvX120z",
        "outputId": "015155e0-c013-4917-c927-74d6131dceb0"
      },
      "execution_count": 42,
      "outputs": [
        {
          "output_type": "stream",
          "name": "stdout",
          "text": [
            "3/8\n"
          ]
        }
      ]
    },
    {
      "cell_type": "code",
      "source": [],
      "metadata": {
        "id": "LSlO6i0l3-9q"
      },
      "execution_count": null,
      "outputs": []
    }
  ],
  "metadata": {
    "colab": {
      "provenance": [],
      "authorship_tag": "ABX9TyOxakxqdSm/SYAsbm0WecfD",
      "include_colab_link": true
    },
    "kernelspec": {
      "display_name": "Python 3",
      "name": "python3"
    },
    "language_info": {
      "name": "python"
    }
  },
  "nbformat": 4,
  "nbformat_minor": 0
}