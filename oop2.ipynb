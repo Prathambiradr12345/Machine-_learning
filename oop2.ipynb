{
  "nbformat": 4,
  "nbformat_minor": 0,
  "metadata": {
    "colab": {
      "provenance": [],
      "authorship_tag": "ABX9TyM01bI9H5ywacqBURlzyoXz",
      "include_colab_link": true
    },
    "kernelspec": {
      "name": "python3",
      "display_name": "Python 3"
    },
    "language_info": {
      "name": "python"
    }
  },
  "cells": [
    {
      "cell_type": "markdown",
      "metadata": {
        "id": "view-in-github",
        "colab_type": "text"
      },
      "source": [
        "<a href=\"https://colab.research.google.com/github/Prathambiradr12345/Machine-_learning/blob/main/oop2.ipynb\" target=\"_parent\"><img src=\"https://colab.research.google.com/assets/colab-badge.svg\" alt=\"Open In Colab\"/></a>"
      ]
    },
    {
      "cell_type": "markdown",
      "source": [
        "Write OOP classes to handle the following scenarios:\n",
        "A user can create and view 2D coordinates\n",
        "A user can find out the distance between 2 coordinates\n",
        "A user can find find the distance of a coordinate from origin\n",
        "A user can check if a point lies on a given line\n",
        "## A user can find the distance between a given 2D point and a given *line*"
      ],
      "metadata": {
        "id": "OGylCVr3fN0E"
      }
    },
    {
      "cell_type": "markdown",
      "source": [
        "**Object is mutable**"
      ],
      "metadata": {
        "id": "TSQOZ_YTflv3"
      }
    },
    {
      "cell_type": "code",
      "source": [],
      "metadata": {
        "id": "fj6-PA9Dbcaz"
      },
      "execution_count": null,
      "outputs": []
    },
    {
      "source": [
        "class point:\n",
        "    def __init__(self,x,y):\n",
        "        self.x=x\n",
        "        self.y=y\n",
        "    def __str__(self):\n",
        "        return f\"({self.x},{self.y})\"\n",
        "    def euclidean_distance(self,other):\n",
        "        return ((self.x-other.x)**2+(self.y-other.y)**2)**0.5\n",
        "    def distance_from_origin(self):\n",
        "        return self.euclidean_distance(point(0,0))\n",
        "\n",
        "class line:\n",
        "    def __init__(self,A,B,C):\n",
        "        self.A=A\n",
        "        self.B=B\n",
        "        self.C=C\n",
        "    def __str__(self):\n",
        "        return f\"{self.A}x+{self.B}y+{self.C}=0\"\n",
        "    def point_on_line(line,point):\n",
        "        if line.A*point.x+line.B*point.y+line.C==0:\n",
        "            return \"point lies on the line\"\n",
        "        else:\n",
        "            return \"does not lie on the line\"\n",
        "    def shortest_distance(line,point):\n",
        "         return abs((line.A*point.x+line.B*point.y+line.C))/(line.A**2+line.B**2)**0.5\n",
        "\n"
      ],
      "cell_type": "code",
      "metadata": {
        "id": "_KKbtdIMlJ4i"
      },
      "execution_count": null,
      "outputs": []
    },
    {
      "source": [
        "l1=line(1,1,-2)\n",
        "p1=point(1,1)\n",
        "print(l1)\n",
        "print(p1) # Changed P1 to p1\n",
        "l1.shortest_distance(p1)"
      ],
      "cell_type": "code",
      "metadata": {
        "colab": {
          "base_uri": "https://localhost:8080/"
        },
        "id": "KEZ_v_Y5ohhn",
        "outputId": "8b81f87a-f8e4-4294-aaf9-27296287c1ae"
      },
      "execution_count": null,
      "outputs": [
        {
          "output_type": "stream",
          "name": "stdout",
          "text": [
            "1x+1y+-2=0\n",
            "(1,1)\n"
          ]
        },
        {
          "output_type": "execute_result",
          "data": {
            "text/plain": [
              "0.0"
            ]
          },
          "metadata": {},
          "execution_count": 24
        }
      ]
    },
    {
      "cell_type": "code",
      "source": [
        "#Attributes\n",
        "class Person:\n",
        "    def __init__(self,name_input,country_input):\n",
        "        self.name=name_input\n",
        "        self.country=country_input\n",
        "    def greet(self):\n",
        "        if self.country==\"India\":\n",
        "            print(\"Namaste\",self.name)\n",
        "        else:\n",
        "            print(\"Hello\",self.name)\n",
        "p=Person('p','India')"
      ],
      "metadata": {
        "id": "CrVhl7EAoymA"
      },
      "execution_count": null,
      "outputs": []
    },
    {
      "cell_type": "code",
      "source": [
        "p.country"
      ],
      "metadata": {
        "colab": {
          "base_uri": "https://localhost:8080/",
          "height": 35
        },
        "id": "6vMZDtKhqAQS",
        "outputId": "841e6a5e-e0f4-4948-a7e1-e13362ae2456"
      },
      "execution_count": null,
      "outputs": [
        {
          "output_type": "execute_result",
          "data": {
            "text/plain": [
              "'India'"
            ],
            "application/vnd.google.colaboratory.intrinsic+json": {
              "type": "string"
            }
          },
          "metadata": {},
          "execution_count": 34
        }
      ]
    },
    {
      "cell_type": "code",
      "source": [
        "p.name"
      ],
      "metadata": {
        "colab": {
          "base_uri": "https://localhost:8080/",
          "height": 35
        },
        "id": "b3xiRfP2qnv0",
        "outputId": "bb024748-3d62-4a50-c559-78c097a683f6"
      },
      "execution_count": null,
      "outputs": [
        {
          "output_type": "execute_result",
          "data": {
            "text/plain": [
              "'p'"
            ],
            "application/vnd.google.colaboratory.intrinsic+json": {
              "type": "string"
            }
          },
          "metadata": {},
          "execution_count": 35
        }
      ]
    },
    {
      "cell_type": "code",
      "source": [
        "p.greet()"
      ],
      "metadata": {
        "colab": {
          "base_uri": "https://localhost:8080/"
        },
        "id": "tVA9UmflqutN",
        "outputId": "ff5e5d8f-5443-4cfa-992c-bb44a80ff948"
      },
      "execution_count": null,
      "outputs": [
        {
          "output_type": "stream",
          "name": "stdout",
          "text": [
            "Namaste p\n"
          ]
        }
      ]
    },
    {
      "cell_type": "code",
      "source": [
        "p.gender=\"male\""
      ],
      "metadata": {
        "id": "Ajbs_RZZq99Q"
      },
      "execution_count": null,
      "outputs": []
    },
    {
      "cell_type": "code",
      "source": [
        "p.gender"
      ],
      "metadata": {
        "id": "mqGlFhFRrDU4",
        "outputId": "9d8dd5e5-cb0b-4562-8512-e6b21b7947a1",
        "colab": {
          "base_uri": "https://localhost:8080/",
          "height": 35
        }
      },
      "execution_count": null,
      "outputs": [
        {
          "output_type": "execute_result",
          "data": {
            "text/plain": [
              "'male'"
            ],
            "application/vnd.google.colaboratory.intrinsic+json": {
              "type": "string"
            }
          },
          "metadata": {},
          "execution_count": 39
        }
      ]
    },
    {
      "cell_type": "code",
      "source": [
        "#reference Variable\n",
        "class Person:\n",
        "    def __init__(self):\n",
        "        self.name=\"p\"\n",
        "        self.gender=\"male\"\n",
        "p=Person()#p is reference variable\n",
        "q=p\n"
      ],
      "metadata": {
        "id": "NWylQF6jbdmX"
      },
      "execution_count": 8,
      "outputs": []
    },
    {
      "cell_type": "code",
      "source": [
        "print(id(p.name))\n",
        "print(id(q.name))\n",
        "q.name=\"q\"\n",
        "print(id(p.name))\n",
        "print(id(q.name))"
      ],
      "metadata": {
        "colab": {
          "base_uri": "https://localhost:8080/"
        },
        "id": "0QFRobFlcBoz",
        "outputId": "0420024c-0a73-4712-86b0-541057192e5c"
      },
      "execution_count": 9,
      "outputs": [
        {
          "output_type": "stream",
          "name": "stdout",
          "text": [
            "136705925991728\n",
            "136705925991728\n",
            "136705924158128\n",
            "136705924158128\n"
          ]
        }
      ]
    },
    {
      "cell_type": "code",
      "source": [
        "#pass by reference\n",
        "class Person:\n",
        "    def __init__(self,name,gender):\n",
        "        self.name=name\n",
        "        self.gender=gender\n",
        "def greet(person):\n",
        "  print('hii my name is',person.name,'and i am a',person.gender)\n",
        "p=Person('p','male')\n",
        "greet(p)\n"
      ],
      "metadata": {
        "colab": {
          "base_uri": "https://localhost:8080/"
        },
        "id": "oUOPyfQXcVYZ",
        "outputId": "d5dfab0e-7e71-4b3d-8b75-14d5bd2affae"
      },
      "execution_count": 12,
      "outputs": [
        {
          "output_type": "stream",
          "name": "stdout",
          "text": [
            "hii my name is p and i am a male\n"
          ]
        }
      ]
    },
    {
      "cell_type": "code",
      "source": [
        "#encapsulation=It is wrapping data\n",
        "#Private and Public\n",
        "#used 2 methods is getchr=check the value of private attributes\n",
        "#Setchr=Change the value of private attributes\n",
        "\n",
        "class P:\n",
        "    def __init__(self):\n",
        "        self.__name=\"p\"\n",
        "        self.__gender=\"male\"\n",
        "    def get_name(self):\n",
        "        return self.__name\n",
        "    def set_name(self,name):\n",
        "        self.__name=name\n"
      ],
      "metadata": {
        "colab": {
          "base_uri": "https://localhost:8080/",
          "height": 176
        },
        "id": "4SawYo4Ndy_y",
        "outputId": "9412beaf-18fe-48db-cb7b-54a11a95ed6f"
      },
      "execution_count": 16,
      "outputs": [
        {
          "output_type": "error",
          "ename": "NameError",
          "evalue": "name 'p1' is not defined",
          "traceback": [
            "\u001b[0;31m---------------------------------------------------------------------------\u001b[0m",
            "\u001b[0;31mNameError\u001b[0m                                 Traceback (most recent call last)",
            "\u001b[0;32m<ipython-input-16-ac18922b9df6>\u001b[0m in \u001b[0;36m<cell line: 6>\u001b[0;34m()\u001b[0m\n\u001b[1;32m      4\u001b[0m         \u001b[0mself\u001b[0m\u001b[0;34m.\u001b[0m\u001b[0m__name\u001b[0m\u001b[0;34m=\u001b[0m\u001b[0;34m\"p\"\u001b[0m\u001b[0;34m\u001b[0m\u001b[0;34m\u001b[0m\u001b[0m\n\u001b[1;32m      5\u001b[0m \u001b[0mp\u001b[0m\u001b[0;34m=\u001b[0m\u001b[0mP\u001b[0m\u001b[0;34m(\u001b[0m\u001b[0;34m)\u001b[0m\u001b[0;34m\u001b[0m\u001b[0;34m\u001b[0m\u001b[0m\n\u001b[0;32m----> 6\u001b[0;31m \u001b[0mp1\u001b[0m\u001b[0;34m.\u001b[0m\u001b[0m__name\u001b[0m\u001b[0;34m=\u001b[0m\u001b[0;34m'ankit'\u001b[0m\u001b[0;34m\u001b[0m\u001b[0;34m\u001b[0m\u001b[0m\n\u001b[0m",
            "\u001b[0;31mNameError\u001b[0m: name 'p1' is not defined"
          ]
        }
      ]
    },
    {
      "cell_type": "code",
      "source": [
        "#collection fo objects\n",
        "class person:\n",
        "    def __init__(self,name,gender):\n",
        "        self.name=name\n",
        "        self.gender=gender\n",
        "p1=person('nitish','male')\n",
        "p2=person('ankit','male')\n",
        "p3=person('ankita','female')\n",
        "l=[p1,p2,p3]\n",
        "for i in l:\n",
        "  print(i.name,i.gender)"
      ],
      "metadata": {
        "colab": {
          "base_uri": "https://localhost:8080/"
        },
        "id": "aKvaDGBzunxH",
        "outputId": "c3c1f8aa-a172-4125-8163-60a6b9aca23b"
      },
      "execution_count": 17,
      "outputs": [
        {
          "output_type": "stream",
          "name": "stdout",
          "text": [
            "nitish male\n",
            "ankit male\n",
            "ankita female\n"
          ]
        }
      ]
    },
    {
      "cell_type": "code",
      "source": [
        "class person:\n",
        "    def __init__(self,name,gender):\n",
        "        self.name=name\n",
        "        self.gender=gender\n",
        "p1=person('nitish','male')\n",
        "p2=person('ankit','male')\n",
        "p3=person('ankita','female')\n",
        "d={'p1':p1,'p2':p2,'p3':p3}\n",
        "for i in d:\n",
        "  print(d[i].gender)\n",
        ""
      ],
      "metadata": {
        "colab": {
          "base_uri": "https://localhost:8080/"
        },
        "id": "qht-Q0UkvvuS",
        "outputId": "0000950b-d496-4448-f346-9b86220a0cda"
      },
      "execution_count": 20,
      "outputs": [
        {
          "output_type": "stream",
          "name": "stdout",
          "text": [
            "male\n",
            "male\n",
            "female\n"
          ]
        }
      ]
    },
    {
      "cell_type": "code",
      "source": [],
      "metadata": {
        "id": "hhMkOminxtfk"
      },
      "execution_count": null,
      "outputs": []
    },
    {
      "cell_type": "code",
      "source": [
        "#static variable=har object ke liye value same hota hai,variable is class\n",
        "#instance variable=har object ke liye value alag alag hota hai,variable is object\n",
        "class Person:\n",
        "    nationality=\"Indian\"\n",
        "    def __init__(self,name,gender):\n",
        "        self.name=name\n",
        "        self.gender=gender\n",
        "p1=Person('nitish','male')\n",
        "p2=Person('ankit','male')\n",
        "\n"
      ],
      "metadata": {
        "id": "1IcJGoFiwDPQ"
      },
      "execution_count": 21,
      "outputs": []
    },
    {
      "cell_type": "code",
      "source": [
        "p1.nationality"
      ],
      "metadata": {
        "colab": {
          "base_uri": "https://localhost:8080/",
          "height": 35
        },
        "id": "PzWoSYk9yQ0I",
        "outputId": "ad991b6f-a463-4061-bf3c-97fee7ecc53c"
      },
      "execution_count": 25,
      "outputs": [
        {
          "output_type": "execute_result",
          "data": {
            "text/plain": [
              "'Indian'"
            ],
            "application/vnd.google.colaboratory.intrinsic+json": {
              "type": "string"
            }
          },
          "metadata": {},
          "execution_count": 25
        }
      ]
    },
    {
      "cell_type": "code",
      "source": [
        "p2.name"
      ],
      "metadata": {
        "colab": {
          "base_uri": "https://localhost:8080/",
          "height": 35
        },
        "id": "4sxVMfMKyTuV",
        "outputId": "d08a09f4-36f8-46ae-8627-ab5a0f565e08"
      },
      "execution_count": 26,
      "outputs": [
        {
          "output_type": "execute_result",
          "data": {
            "text/plain": [
              "'ankit'"
            ],
            "application/vnd.google.colaboratory.intrinsic+json": {
              "type": "string"
            }
          },
          "metadata": {},
          "execution_count": 26
        }
      ]
    },
    {
      "cell_type": "code",
      "source": [],
      "metadata": {
        "id": "cjSVRf5cziLX"
      },
      "execution_count": null,
      "outputs": []
    }
  ]
}