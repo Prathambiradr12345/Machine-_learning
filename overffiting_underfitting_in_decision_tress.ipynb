{
  "nbformat": 4,
  "nbformat_minor": 0,
  "metadata": {
    "colab": {
      "provenance": [],
      "authorship_tag": "ABX9TyM2GDfRTWXLlPwDXSiAR9/0",
      "include_colab_link": true
    },
    "kernelspec": {
      "name": "python3",
      "display_name": "Python 3"
    },
    "language_info": {
      "name": "python"
    }
  },
  "cells": [
    {
      "cell_type": "markdown",
      "metadata": {
        "id": "view-in-github",
        "colab_type": "text"
      },
      "source": [
        "<a href=\"https://colab.research.google.com/github/Prathambiradr12345/Machine-_learning/blob/main/overffiting_underfitting_in_decision_tress.ipynb\" target=\"_parent\"><img src=\"https://colab.research.google.com/assets/colab-badge.svg\" alt=\"Open In Colab\"/></a>"
      ]
    },
    {
      "cell_type": "code",
      "execution_count": 1,
      "metadata": {
        "id": "4JvnhRYHb4uR"
      },
      "outputs": [],
      "source": [
        "import numpy as  np\n",
        "import pandas as pd\n",
        "import matplotlib.pyplot as plt\n",
        "from sklearn.tree import DecisionTreeClassifier"
      ]
    },
    {
      "cell_type": "code",
      "source": [
        "def analyzer(max_depth):\n",
        "  data=pd.read_csv('Social_Network_Ad.csv')\n",
        "  x=data.iloc[:,2:4].values\n",
        "  y=data.iloc[:,-1].values\n",
        "  clf=DecisionTreeClassifier(max_depth=max_depth)\n",
        "  clf.fit(x,y)\n",
        "  a=np.arange(start=x[:,0].min()-1,stop=x[:,0].max()+1,step=0.1)\n",
        "  b=np.arange(start=x[:,1].min()-1,stop=x[:,1].max()+1,step=0.1)\n",
        "  xx,yy=np.meshgrid(a,b)\n",
        "  input_array=np.array([xx.ravel(),yy.ravel()]).T\n",
        "  z=clf.predict(input_array)\n",
        "  plt.contourf(xx,yy,labels.reshape(xx.shape),alpha=0.5)\n",
        "  plt.scatter(x[:,0],x[:,1],c=y)\n"
      ],
      "metadata": {
        "id": "1iBU1A-Jc5_e"
      },
      "execution_count": 2,
      "outputs": []
    },
    {
      "cell_type": "code",
      "source": [
        "analyzer(max_depth=None)"
      ],
      "metadata": {
        "id": "tDFLVln4eXF9"
      },
      "execution_count": null,
      "outputs": []
    }
  ]
}