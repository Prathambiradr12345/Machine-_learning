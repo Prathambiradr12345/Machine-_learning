{
  "nbformat": 4,
  "nbformat_minor": 0,
  "metadata": {
    "colab": {
      "provenance": [],
      "authorship_tag": "ABX9TyOxjQcXn5uIkfI06QiWNK0+",
      "include_colab_link": true
    },
    "kernelspec": {
      "name": "python3",
      "display_name": "Python 3"
    },
    "language_info": {
      "name": "python"
    }
  },
  "cells": [
    {
      "cell_type": "markdown",
      "metadata": {
        "id": "view-in-github",
        "colab_type": "text"
      },
      "source": [
        "<a href=\"https://colab.research.google.com/github/Prathambiradr12345/Machine-_learning/blob/main/gradint_descent.ipynb\" target=\"_parent\"><img src=\"https://colab.research.google.com/assets/colab-badge.svg\" alt=\"Open In Colab\"/></a>"
      ]
    },
    {
      "cell_type": "code",
      "execution_count": 1,
      "metadata": {
        "id": "D1FJyfrPVAnO"
      },
      "outputs": [],
      "source": [
        "from sklearn.datasets import make_regression\n",
        "import matplotlib.pyplot as plt\n",
        "import numpy as np"
      ]
    },
    {
      "cell_type": "code",
      "source": [
        "X,y=make_regression(n_samples=100,n_features=1,n_informative=1,n_targets=1,noise=20)"
      ],
      "metadata": {
        "id": "7Kev0ZcZVgPZ"
      },
      "execution_count": 2,
      "outputs": []
    },
    {
      "cell_type": "code",
      "source": [
        "plt.scatter(X,y)"
      ],
      "metadata": {
        "colab": {
          "base_uri": "https://localhost:8080/",
          "height": 447
        },
        "id": "kijASMg9Vvxs",
        "outputId": "bbeb2bb4-041e-4618-aa29-4c55ff11d24a"
      },
      "execution_count": 3,
      "outputs": [
        {
          "output_type": "execute_result",
          "data": {
            "text/plain": [
              "<matplotlib.collections.PathCollection at 0x7ddac0f5da20>"
            ]
          },
          "metadata": {},
          "execution_count": 3
        },
        {
          "output_type": "display_data",
          "data": {
            "text/plain": [
              "<Figure size 640x480 with 1 Axes>"
            ],
            "image/png": "[encoded data removed]"
          },
          "metadata": {}
        }
      ]
    },
    {
      "cell_type": "code",
      "source": [
        "from sklearn.linear_model import LinearRegression\n"
      ],
      "metadata": {
        "id": "LmRGFTFHV3Ba"
      },
      "execution_count": 5,
      "outputs": []
    },
    {
      "cell_type": "code",
      "source": [
        "lr=LinearRegression()\n",
        "lr.fit(X,y)\n",
        "print(lr.coef_)\n",
        "print(lr.intercept_)"
      ],
      "metadata": {
        "colab": {
          "base_uri": "https://localhost:8080/"
        },
        "id": "QDJpLstHWJWy",
        "outputId": "6c6b2bf8-372f-43b1-f537-a04967eca6e9"
      },
      "execution_count": 6,
      "outputs": [
        {
          "output_type": "stream",
          "name": "stdout",
          "text": [
            "[93.31557685]\n",
            "1.0816412923400907\n"
          ]
        }
      ]
    },
    {
      "cell_type": "code",
      "source": [
        "m=93.31"
      ],
      "metadata": {
        "id": "X5WffLHjWa_U"
      },
      "execution_count": 7,
      "outputs": []
    },
    {
      "cell_type": "code",
      "source": [
        "class GDRegressor:\n",
        "  def __init__(self,learning_rate,epochs):\n",
        "    self.m=29.19\n",
        "    self.b=-120\n",
        "    self.lr=learning_rate\n",
        "    self.epochs=epochs\n",
        "  def fit(self,X,y):\n",
        "    #calculate using GD\n",
        "    for i in range(self.epochs):\n",
        "      loss_slope=-2*np.sum(y-self.m*X-self.b)\n",
        "      self.b=self.b-(self.lr*loss_slope)\n",
        "      print(loss_slope,self.b)\n",
        "    print(self.b)\n",
        "\n",
        "\n"
      ],
      "metadata": {
        "id": "Z0YY4T7NXQvl"
      },
      "execution_count": 15,
      "outputs": []
    },
    {
      "cell_type": "code",
      "source": [
        "gd=GDRegressor(0.001,100)\n",
        "gd.fit(X,y)"
      ],
      "metadata": {
        "colab": {
          "base_uri": "https://localhost:8080/"
        },
        "id": "02mpQvarYsDt",
        "outputId": "ff3a1c6d-a3e4-4c3c-d087-219d60bb874c"
      },
      "execution_count": 17,
      "outputs": [
        {
          "output_type": "stream",
          "name": "stdout",
          "text": [
            "-2435494.942652977 2315.494942652977\n",
            "46274403.91040657 -43958.90896775359\n",
            "-879213674.2977248 835254.7653299712\n",
            "16705059811.65677 -15869805.0463268\n",
            "-317396136421.47864 301526331.3751518\n",
            "6030526592008.094 -5729000260.632942\n",
            "-114580005248153.78 108851004987.52084\n",
            "2177020099714922.0 -2068169094727.4014\n",
            "-4.136338189458352e+16 39295212799856.125\n",
            "7.85904255997087e+17 -746609043197230.9\n",
            "-1.4932180863944653e+19 1.4185571820747424e+16\n",
            "2.8371143641494847e+20 -2.6952586459420106e+17\n",
            "-5.390517291884021e+21 5.120991427289821e+18\n",
            "1.0241982854579647e+23 -9.729883711850665e+19\n",
            "-1.9459767423701333e+24 1.8486779052516266e+21\n",
            "3.6973558105032546e+25 -3.512488019978092e+22\n",
            "-7.024976039956183e+26 6.673727237958374e+23\n",
            "1.3347454475916747e+28 -1.268008175212091e+25\n",
            "-2.5360163504241824e+29 2.4092155329029735e+26\n",
            "4.818431065805946e+30 -4.5775095125156487e+27\n",
            "-9.155019025031295e+31 8.69726807377973e+28\n",
            "1.7394536147559463e+33 -1.652480934018149e+30\n",
            "-3.3049618680362977e+34 3.1397137746344827e+31\n",
            "6.279427549268965e+35 -5.9654561718055165e+32\n",
            "-1.1930912343611032e+37 1.133436672643048e+34\n",
            "2.2668733452860962e+38 -2.153529678021791e+35\n",
            "-4.307059356043582e+39 4.091706388241403e+36\n",
            "8.183412776482804e+40 -7.774242137658664e+37\n",
            "-1.5548484275317324e+42 1.4771060061551458e+39\n",
            "2.9542120123102917e+43 -2.8065014116947773e+40\n",
            "-5.613002823389554e+44 5.332352682220077e+41\n",
            "1.0664705364440151e+46 -1.0131470096218143e+43\n",
            "-2.0262940192436282e+47 1.924979318281447e+44\n",
            "3.849958636562893e+48 -3.6574607047347485e+45\n",
            "-7.314921409469496e+49 6.949175338996021e+46\n",
            "1.3898350677992038e+51 -1.3203433144092436e+48\n",
            "-2.6406866288184877e+52 2.5086522973775633e+49\n",
            "5.017304594755125e+53 -4.766439365017369e+50\n",
            "-9.53287873003474e+54 9.056234793533003e+51\n",
            "1.811246958706601e+56 -1.7206846107712709e+53\n",
            "-3.4413692215425424e+57 3.269300760465416e+54\n",
            "6.538601520930832e+58 -6.211671444884291e+55\n",
            "-1.2423342889768583e+60 1.1802175745280154e+57\n",
            "2.360435149056031e+61 -2.2424133916032292e+58\n",
            "-4.48482678320646e+62 4.260585444046137e+59\n",
            "8.521170888092272e+63 -8.09511234368766e+60\n",
            "-1.6190224687375318e+65 1.538071345300655e+62\n",
            "3.076142690601311e+66 -2.9223355560712455e+63\n",
            "-5.84467111214249e+67 5.552437556535366e+64\n",
            "1.1104875113070733e+69 -1.0549631357417197e+66\n",
            "-2.1099262714834396e+70 2.0044299579092675e+67\n",
            "4.0088599158185347e+71 -3.808416920027608e+68\n",
            "-7.616833840055218e+72 7.235992148052457e+69\n",
            "1.4471984296104917e+74 -1.3748385081299672e+71\n",
            "-2.749677016259934e+75 2.6121931654469376e+72\n",
            "5.2243863308938734e+76 -4.96316701434918e+73\n",
            "-9.926334028698363e+77 9.430017327263446e+74\n",
            "1.886003465452689e+79 -1.7917032921800545e+76\n",
            "-3.58340658436011e+80 3.4042362551421044e+77\n",
            "6.80847251028421e+81 -6.468048884769999e+78\n",
            "-1.2936097769539997e+83 1.2289292881062996e+80\n",
            "2.4578585762125984e+84 -2.3349656474019686e+81\n",
            "-4.669931294803939e+85 4.436434730063742e+82\n",
            "8.872869460127484e+86 -8.42922598712111e+83\n",
            "-1.6858451974242215e+88 1.6015529375530106e+85\n",
            "3.20310587510602e+89 -3.042950581350719e+86\n",
            "-6.085901162701438e+90 5.781606104566366e+87\n",
            "1.156321220913273e+92 -1.0985051598676094e+89\n",
            "-2.1970103197352183e+93 2.0871598037484574e+90\n",
            "4.1743196074969156e+94 -3.9656036271220705e+91\n",
            "-7.931207254244141e+95 7.534646891531934e+92\n",
            "1.5069293783063862e+97 -1.431582909391067e+94\n",
            "-2.863165818782133e+98 2.7200075278430265e+95\n",
            "5.440015055686053e+99 -5.16801430290175e+96\n",
            "-1.0336028605803505e+101 9.81922717551333e+97\n",
            "1.9638454351026665e+102 -1.8656531633475333e+99\n",
            "-3.7313063266950676e+103 3.544741010360314e+100\n",
            "7.089482020720629e+104 -6.735007919684598e+101\n",
            "-1.3470015839369194e+106 1.2796515047400735e+103\n",
            "2.5593030094801464e+107 -2.4313378590061392e+104\n",
            "-4.862675718012278e+108 4.619541932111664e+105\n",
            "9.239083864223328e+109 -8.777129671012161e+106\n",
            "-1.7554259342024326e+111 1.667654637492311e+108\n",
            "3.335309274984623e+112 -3.1685438112353916e+109\n",
            "-6.337087622470783e+113 6.020233241347244e+110\n",
            "1.2040466482694486e+115 -1.1438443158559762e+112\n",
            "-2.2876886317119527e+116 2.1733042001263552e+113\n",
            "4.346608400252709e+117 -4.129277980240074e+114\n",
            "-8.258555960480146e+118 7.84562816245614e+115\n",
            "1.5691256324912284e+120 -1.490669350866667e+117\n",
            "-2.981338701733333e+121 2.8322717666466663e+118\n",
            "5.6645435332933336e+122 -5.381316356628667e+119\n",
            "-1.0762632713257335e+124 1.0224501077594469e+121\n",
            "2.0449002155188947e+125 -1.94265520474295e+122\n",
            "-3.8853104094858993e+126 3.691044889011604e+123\n",
            "7.382089778023211e+127 -7.01298528912205e+124\n",
            "-1.4025970578244103e+129 1.3324672049331897e+126\n",
            "2.6649344098663806e+130 -2.5316876893730616e+127\n",
            "-5.063375378746123e+131 4.810206609808817e+128\n",
            "9.62041321961763e+132 -9.139392558636749e+129\n",
            "-9.139392558636749e+129\n"
          ]
        }
      ]
    },
    {
      "cell_type": "code",
      "source": [],
      "metadata": {
        "id": "QXY8vkByaDht"
      },
      "execution_count": null,
      "outputs": []
    }
  ]
}